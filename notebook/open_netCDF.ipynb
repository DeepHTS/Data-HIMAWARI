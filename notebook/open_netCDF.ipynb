{
 "cells": [
  {
   "cell_type": "markdown",
   "metadata": {},
   "source": [
    "## Open netCDF file"
   ]
  },
  {
   "cell_type": "code",
   "execution_count": 1,
   "metadata": {},
   "outputs": [
    {
     "data": {
      "text/plain": [
       "'/src/notebook'"
      ]
     },
     "execution_count": 1,
     "metadata": {},
     "output_type": "execute_result"
    }
   ],
   "source": [
    "%pwd"
   ]
  },
  {
   "cell_type": "code",
   "execution_count": 63,
   "metadata": {},
   "outputs": [],
   "source": [
    "import os\n",
    "import numpy as np\n",
    "from osgeo import gdal, osr"
   ]
  },
  {
   "cell_type": "code",
   "execution_count": 32,
   "metadata": {},
   "outputs": [
    {
     "data": {
      "text/plain": [
       "True"
      ]
     },
     "execution_count": 32,
     "metadata": {},
     "output_type": "execute_result"
    }
   ],
   "source": [
    "path_local = 'data/NC_H08_20160714_0000_r14_FLDK.02701_02601.nc'\n",
    "os.path.exists(path_file)"
   ]
  },
  {
   "cell_type": "code",
   "execution_count": 33,
   "metadata": {},
   "outputs": [],
   "source": [
    "hdf_ds = gdal.Open(path_local)\n",
    "try:\n",
    "    sub_datasets = hdf_ds.GetSubDatasets()\n",
    "except AttributeError:\n",
    "    print(\"can't open sub datasets by GDAL \\n {}\".format(path_local))"
   ]
  },
  {
   "cell_type": "code",
   "execution_count": 34,
   "metadata": {},
   "outputs": [
    {
     "data": {
      "text/plain": [
       "[('NETCDF:\"data/NC_H08_20160714_0000_r14_FLDK.02701_02601.nc\":albedo_01',\n",
       "  '[2601x2701] albedo_01 (16-bit integer)'),\n",
       " ('NETCDF:\"data/NC_H08_20160714_0000_r14_FLDK.02701_02601.nc\":albedo_02',\n",
       "  '[2601x2701] albedo_02 (16-bit integer)'),\n",
       " ('NETCDF:\"data/NC_H08_20160714_0000_r14_FLDK.02701_02601.nc\":albedo_03',\n",
       "  '[2601x2701] albedo_03 (16-bit integer)'),\n",
       " ('NETCDF:\"data/NC_H08_20160714_0000_r14_FLDK.02701_02601.nc\":sd_albedo_03',\n",
       "  '[2601x2701] sd_albedo_03 (16-bit integer)'),\n",
       " ('NETCDF:\"data/NC_H08_20160714_0000_r14_FLDK.02701_02601.nc\":albedo_04',\n",
       "  '[2601x2701] albedo_04 (16-bit integer)'),\n",
       " ('NETCDF:\"data/NC_H08_20160714_0000_r14_FLDK.02701_02601.nc\":albedo_05',\n",
       "  '[2601x2701] albedo_05 (16-bit integer)'),\n",
       " ('NETCDF:\"data/NC_H08_20160714_0000_r14_FLDK.02701_02601.nc\":albedo_06',\n",
       "  '[2601x2701] albedo_06 (16-bit integer)'),\n",
       " ('NETCDF:\"data/NC_H08_20160714_0000_r14_FLDK.02701_02601.nc\":tbb_07',\n",
       "  '[2601x2701] tbb_07 (16-bit integer)'),\n",
       " ('NETCDF:\"data/NC_H08_20160714_0000_r14_FLDK.02701_02601.nc\":tbb_14',\n",
       "  '[2601x2701] tbb_14 (16-bit integer)'),\n",
       " ('NETCDF:\"data/NC_H08_20160714_0000_r14_FLDK.02701_02601.nc\":tbb_15',\n",
       "  '[2601x2701] tbb_15 (16-bit integer)'),\n",
       " ('NETCDF:\"data/NC_H08_20160714_0000_r14_FLDK.02701_02601.nc\":SAZ',\n",
       "  '[2601x2701] SAZ (16-bit integer)'),\n",
       " ('NETCDF:\"data/NC_H08_20160714_0000_r14_FLDK.02701_02601.nc\":SAA',\n",
       "  '[2601x2701] SAA (16-bit integer)'),\n",
       " ('NETCDF:\"data/NC_H08_20160714_0000_r14_FLDK.02701_02601.nc\":SOZ',\n",
       "  '[2601x2701] SOZ (16-bit integer)'),\n",
       " ('NETCDF:\"data/NC_H08_20160714_0000_r14_FLDK.02701_02601.nc\":SOA',\n",
       "  '[2601x2701] SOA (16-bit integer)'),\n",
       " ('NETCDF:\"data/NC_H08_20160714_0000_r14_FLDK.02701_02601.nc\":Hour',\n",
       "  '[2601x2701] Hour (16-bit integer)')]"
      ]
     },
     "execution_count": 34,
     "metadata": {},
     "output_type": "execute_result"
    }
   ],
   "source": [
    "sub_datasets"
   ]
  },
  {
   "cell_type": "code",
   "execution_count": 35,
   "metadata": {},
   "outputs": [
    {
     "data": {
      "text/plain": [
       "{'NC_GLOBAL#band_number': '9',\n",
       " 'NC_GLOBAL#date_created': '2016-10-21T20:12:16Z',\n",
       " 'NC_GLOBAL#grid_interval': '0.0099999998',\n",
       " 'NC_GLOBAL#id': 'NC_H08_20160714_0000_r14_FLDK.02701_02601.nc',\n",
       " 'NC_GLOBAL#line_number': '2601',\n",
       " 'NC_GLOBAL#pixel_number': '2701',\n",
       " 'NC_GLOBAL#title': 'Himawari-8 AHI equal latitude-longitude map data',\n",
       " 'NC_GLOBAL#upper_left_latitude': '50',\n",
       " 'NC_GLOBAL#upper_left_longitude': '123'}"
      ]
     },
     "execution_count": 35,
     "metadata": {},
     "output_type": "execute_result"
    }
   ],
   "source": [
    "dict_meta = hdf_ds.GetMetadata()\n",
    "dict_meta"
   ]
  },
  {
   "cell_type": "code",
   "execution_count": 36,
   "metadata": {},
   "outputs": [
    {
     "data": {
      "text/plain": [
       "['albedo_01',\n",
       " 'albedo_02',\n",
       " 'albedo_03',\n",
       " 'sd_albedo_03',\n",
       " 'albedo_04',\n",
       " 'albedo_05',\n",
       " 'albedo_06',\n",
       " 'tbb_07',\n",
       " 'tbb_14',\n",
       " 'tbb_15',\n",
       " 'SAZ',\n",
       " 'SAA',\n",
       " 'SOZ',\n",
       " 'SOA',\n",
       " 'Hour']"
      ]
     },
     "execution_count": 36,
     "metadata": {},
     "output_type": "execute_result"
    }
   ],
   "source": [
    "list_band = [dataset[0].split(':')[-1] for dataset in sub_datasets]\n",
    "list_band"
   ]
  },
  {
   "cell_type": "code",
   "execution_count": 90,
   "metadata": {},
   "outputs": [
    {
     "data": {
      "text/plain": [
       "[0, 8]"
      ]
     },
     "execution_count": 90,
     "metadata": {},
     "output_type": "execute_result"
    }
   ],
   "source": [
    "name = ['tbb_14', 'albedo_01']\n",
    "[i for i, band in enumerate(list_band) if band in name]"
   ]
  },
  {
   "cell_type": "code",
   "execution_count": 89,
   "metadata": {},
   "outputs": [
    {
     "name": "stdout",
     "output_type": "stream",
     "text": [
      "8\n"
     ]
    }
   ],
   "source": [
    "name = 'tbb_14'\n",
    "index = [i for i, band in enumerate(list_band) if band==name][0]\n",
    "print(index)"
   ]
  },
  {
   "cell_type": "code",
   "execution_count": 51,
   "metadata": {},
   "outputs": [
    {
     "data": {
      "text/plain": [
       "<osgeo.gdal.Dataset; proxy of <Swig Object of type 'GDALDatasetShadow *' at 0x7fb5d88905d0> >"
      ]
     },
     "execution_count": 51,
     "metadata": {},
     "output_type": "execute_result"
    }
   ],
   "source": [
    "dataset = sub_datasets[index]\n",
    "band_ds = gdal.Open(dataset[0], gdal.GA_ReadOnly)\n",
    "band_ds"
   ]
  },
  {
   "cell_type": "code",
   "execution_count": 16,
   "metadata": {},
   "outputs": [],
   "source": [
    "# dict_meta_sub = self._get_meta_data(dataset, dict_meta)\n",
    "# head = dict_meta_sub.get('head', None)"
   ]
  },
  {
   "cell_type": "code",
   "execution_count": 18,
   "metadata": {},
   "outputs": [
    {
     "ename": "TypeError",
     "evalue": "_get_filtered_list() missing 1 required positional argument: 'list_band_filter'",
     "output_type": "error",
     "traceback": [
      "\u001b[0;31m---------------------------------------------------------------------------\u001b[0m",
      "\u001b[0;31mTypeError\u001b[0m                                 Traceback (most recent call last)",
      "\u001b[0;32m<ipython-input-18-f4b95a425920>\u001b[0m in \u001b[0;36m<module>\u001b[0;34m\u001b[0m\n\u001b[1;32m      1\u001b[0m \u001b[0mlist_band\u001b[0m \u001b[0;34m=\u001b[0m \u001b[0;34m[\u001b[0m\u001b[0mdataset\u001b[0m\u001b[0;34m[\u001b[0m\u001b[0;36m0\u001b[0m\u001b[0;34m]\u001b[0m\u001b[0;34m.\u001b[0m\u001b[0msplit\u001b[0m\u001b[0;34m(\u001b[0m\u001b[0;34m':'\u001b[0m\u001b[0;34m)\u001b[0m\u001b[0;34m[\u001b[0m\u001b[0;34m-\u001b[0m\u001b[0;36m1\u001b[0m\u001b[0;34m]\u001b[0m \u001b[0;32mfor\u001b[0m \u001b[0mdataset\u001b[0m \u001b[0;32min\u001b[0m \u001b[0msub_datasets\u001b[0m\u001b[0;34m]\u001b[0m\u001b[0;34m\u001b[0m\u001b[0;34m\u001b[0m\u001b[0m\n\u001b[0;32m----> 2\u001b[0;31m \u001b[0mlist_index\u001b[0m \u001b[0;34m=\u001b[0m \u001b[0m_get_filtered_list\u001b[0m\u001b[0;34m(\u001b[0m\u001b[0mlist_band\u001b[0m\u001b[0;34m,\u001b[0m \u001b[0;32mNone\u001b[0m\u001b[0;34m)\u001b[0m\u001b[0;34m\u001b[0m\u001b[0;34m\u001b[0m\u001b[0m\n\u001b[0m\u001b[1;32m      3\u001b[0m \u001b[0mprint\u001b[0m\u001b[0;34m(\u001b[0m\u001b[0mlist_band\u001b[0m\u001b[0;34m)\u001b[0m\u001b[0;34m\u001b[0m\u001b[0;34m\u001b[0m\u001b[0m\n\u001b[1;32m      4\u001b[0m \u001b[0mprint\u001b[0m\u001b[0;34m(\u001b[0m\u001b[0mlist_index\u001b[0m\u001b[0;34m)\u001b[0m\u001b[0;34m\u001b[0m\u001b[0;34m\u001b[0m\u001b[0m\n",
      "\u001b[0;31mTypeError\u001b[0m: _get_filtered_list() missing 1 required positional argument: 'list_band_filter'"
     ]
    }
   ],
   "source": [
    "# list_band = [dataset[0].split(':')[-1] for dataset in sub_datasets]\n",
    "# list_index = _get_filtered_list(list_band, list_band_filter)\n",
    "# print(list_band)\n",
    "# print(list_index)"
   ]
  },
  {
   "cell_type": "code",
   "execution_count": 73,
   "metadata": {},
   "outputs": [],
   "source": [
    "band_array = band_ds.ReadAsArray()\n",
    "data_type = band_array.dtype.name"
   ]
  },
  {
   "cell_type": "code",
   "execution_count": 74,
   "metadata": {},
   "outputs": [
    {
     "data": {
      "text/plain": [
       "((2601, 2701), 'int16')"
      ]
     },
     "execution_count": 74,
     "metadata": {},
     "output_type": "execute_result"
    }
   ],
   "source": [
    "band_array.shape, data_type"
   ]
  },
  {
   "cell_type": "code",
   "execution_count": 75,
   "metadata": {},
   "outputs": [
    {
     "data": {
      "text/plain": [
       "{'latitude#long_name': 'latitude',\n",
       " 'latitude#units': 'degrees_north',\n",
       " 'longitude#long_name': 'longitude',\n",
       " 'longitude#units': 'degrees_east',\n",
       " 'NC_GLOBAL#band_number': '9',\n",
       " 'NC_GLOBAL#date_created': '2016-10-21T20:12:16Z',\n",
       " 'NC_GLOBAL#grid_interval': '0.0099999998',\n",
       " 'NC_GLOBAL#id': 'NC_H08_20160714_0000_r14_FLDK.02701_02601.nc',\n",
       " 'NC_GLOBAL#line_number': '2601',\n",
       " 'NC_GLOBAL#pixel_number': '2701',\n",
       " 'NC_GLOBAL#title': 'Himawari-8 AHI equal latitude-longitude map data',\n",
       " 'NC_GLOBAL#upper_left_latitude': '50',\n",
       " 'NC_GLOBAL#upper_left_longitude': '123',\n",
       " 'tbb_14#add_offset': '273.14999',\n",
       " 'tbb_14#long_name': 'Brightness temperature of band 14',\n",
       " 'tbb_14#missing_value': '-32768',\n",
       " 'tbb_14#scale_factor': '0.0099999998',\n",
       " 'tbb_14#units': 'K',\n",
       " 'tbb_14#valid_max': '32767',\n",
       " 'tbb_14#valid_min': '-27315'}"
      ]
     },
     "execution_count": 75,
     "metadata": {},
     "output_type": "execute_result"
    }
   ],
   "source": [
    "band_ds.GetMetadata()"
   ]
  },
  {
   "cell_type": "code",
   "execution_count": 76,
   "metadata": {},
   "outputs": [
    {
     "data": {
      "text/plain": [
       "'NETCDF:\"data/NC_H08_20160714_0000_r14_FLDK.02701_02601.nc\":tbb_14'"
      ]
     },
     "execution_count": 76,
     "metadata": {},
     "output_type": "execute_result"
    }
   ],
   "source": [
    "band_ds.GetDescription()"
   ]
  },
  {
   "cell_type": "code",
   "execution_count": 91,
   "metadata": {},
   "outputs": [
    {
     "data": {
      "text/plain": [
       "-2601"
      ]
     },
     "execution_count": 91,
     "metadata": {},
     "output_type": "execute_result"
    }
   ],
   "source": [
    "band_ds.RasterYSize * -1"
   ]
  },
  {
   "cell_type": "code",
   "execution_count": 78,
   "metadata": {},
   "outputs": [],
   "source": [
    "ESPG_GRID = 4326"
   ]
  },
  {
   "cell_type": "code",
   "execution_count": 79,
   "metadata": {},
   "outputs": [
    {
     "data": {
      "text/plain": [
       "0"
      ]
     },
     "execution_count": 79,
     "metadata": {},
     "output_type": "execute_result"
    }
   ],
   "source": [
    "band_array = np.flipud(band_array.T)\n",
    "espg_grid = ESPG_GRID\n",
    "srs = osr.SpatialReference()\n",
    "srs.ImportFromEPSG(espg_grid)"
   ]
  },
  {
   "cell_type": "code",
   "execution_count": 80,
   "metadata": {},
   "outputs": [],
   "source": [
    "# projection data\n",
    "tup_transform = (123.0, 0.0099999998, 0.0, 50.0, 0.0, -0.0099999998)"
   ]
  },
  {
   "cell_type": "code",
   "execution_count": 81,
   "metadata": {},
   "outputs": [],
   "source": [
    "DICT_GDT = {\n",
    "    'uint16': gdal.GDT_UInt16,\n",
    "    'uint8': gdal.GDT_Byte,\n",
    "    'complex64': gdal.GDT_CFloat64,\n",
    "    'float32': gdal.GDT_Float32,\n",
    "    'float64': gdal.GDT_Float64,\n",
    "    'int16': gdal.GDT_Int16,\n",
    "    'int32': gdal.GDT_Int32,\n",
    "    'uint32': gdal.GDT_UInt32,\n",
    "}"
   ]
  },
  {
   "cell_type": "code",
   "execution_count": 82,
   "metadata": {},
   "outputs": [
    {
     "data": {
      "text/plain": [
       "((2701, 2601), 2601, 2701)"
      ]
     },
     "execution_count": 82,
     "metadata": {},
     "output_type": "execute_result"
    }
   ],
   "source": [
    "band_array.shape, band_ds.RasterYSize, band_ds.RasterXSize"
   ]
  },
  {
   "cell_type": "code",
   "execution_count": 83,
   "metadata": {},
   "outputs": [],
   "source": [
    "# set filename and path\n",
    "filename_grid = os.path.splitext(os.path.basename(path_local))[0]+ '_' + str(ESPG_GRID) + '.tif'\n",
    "path_grid = os.path.join('data/', filename_grid)\n",
    "\n",
    "# convert to sinusoidal and save it\n",
    "out_ds = gdal.GetDriverByName('GTiff').Create(path_grid,\n",
    "                                              band_ds.RasterYSize,\n",
    "                                              band_ds.RasterXSize,\n",
    "                                              1,  # Number of bands\n",
    "                                              DICT_GDT.get(data_type, gdal.GDT_Unknown),\n",
    "                                              ['TILED=YES'])\n",
    "out_ds.SetGeoTransform(tup_transform)\n",
    "out_ds.SetProjection(srs.ExportToWkt())\n",
    "out_ds.GetRasterBand(1).WriteArray(band_array)\n",
    "out_ds.FlushCache()\n",
    "out_ds = None"
   ]
  },
  {
   "cell_type": "code",
   "execution_count": 86,
   "metadata": {},
   "outputs": [],
   "source": [
    "import rasterio\n",
    "from rasterio.plot import show"
   ]
  },
  {
   "cell_type": "code",
   "execution_count": 118,
   "metadata": {},
   "outputs": [
    {
     "data": {
      "image/png": "[encoded data removed]",
      "text/plain": [
       "<Figure size 432x288 with 1 Axes>"
      ]
     },
     "metadata": {
      "needs_background": "light"
     },
     "output_type": "display_data"
    }
   ],
   "source": [
    "path_grid = 'data/NC_H08_20160714_0000_r14_FLDK.02701_02601_Hour_4326.tif'\n",
    "src = rasterio.open(path_grid)\n",
    "show(src);"
   ]
  },
  {
   "cell_type": "code",
   "execution_count": 121,
   "metadata": {},
   "outputs": [
    {
     "data": {
      "text/plain": [
       "{'driver': 'GTiff',\n",
       " 'dtype': 'int16',\n",
       " 'nodata': -32768.0,\n",
       " 'width': 2601,\n",
       " 'height': 2701,\n",
       " 'count': 1,\n",
       " 'crs': CRS.from_epsg(4326),\n",
       " 'transform': Affine(0.0099999998, 0.0, 123.0,\n",
       "        0.0, -0.0099999998, 50.0)}"
      ]
     },
     "execution_count": 121,
     "metadata": {},
     "output_type": "execute_result"
    }
   ],
   "source": [
    "src.meta"
   ]
  },
  {
   "cell_type": "code",
   "execution_count": 122,
   "metadata": {},
   "outputs": [
    {
     "data": {
      "text/plain": [
       "(9.9999997e-05,)"
      ]
     },
     "execution_count": 122,
     "metadata": {},
     "output_type": "execute_result"
    }
   ],
   "source": [
    "src.scales"
   ]
  },
  {
   "cell_type": "code",
   "execution_count": 123,
   "metadata": {},
   "outputs": [
    {
     "data": {
      "text/plain": [
       "('hours',)"
      ]
     },
     "execution_count": 123,
     "metadata": {},
     "output_type": "execute_result"
    }
   ],
   "source": [
    "src.units"
   ]
  },
  {
   "cell_type": "code",
   "execution_count": 124,
   "metadata": {},
   "outputs": [
    {
     "data": {
      "text/plain": [
       "('observation hours (UT)',)"
      ]
     },
     "execution_count": 124,
     "metadata": {},
     "output_type": "execute_result"
    }
   ],
   "source": [
    "src.descriptions"
   ]
  },
  {
   "cell_type": "code",
   "execution_count": 125,
   "metadata": {},
   "outputs": [
    {
     "data": {
      "text/plain": [
       "(0.0045836223,)"
      ]
     },
     "execution_count": 125,
     "metadata": {},
     "output_type": "execute_result"
    }
   ],
   "source": [
    "src.offsets"
   ]
  },
  {
   "cell_type": "code",
   "execution_count": 126,
   "metadata": {},
   "outputs": [
    {
     "data": {
      "text/plain": [
       "-32768.0"
      ]
     },
     "execution_count": 126,
     "metadata": {},
     "output_type": "execute_result"
    }
   ],
   "source": [
    "src.nodata"
   ]
  },
  {
   "cell_type": "code",
   "execution_count": 127,
   "metadata": {},
   "outputs": [],
   "source": [
    "with rasterio.open(path_grid, 'r+') as src:\n",
    "    src.nodata = -32768"
   ]
  },
  {
   "cell_type": "code",
   "execution_count": null,
   "metadata": {},
   "outputs": [],
   "source": []
  }
 ],
 "metadata": {
  "kernelspec": {
   "display_name": "Python 3",
   "language": "python",
   "name": "python3"
  },
  "language_info": {
   "codemirror_mode": {
    "name": "ipython",
    "version": 3
   },
   "file_extension": ".py",
   "mimetype": "text/x-python",
   "name": "python",
   "nbconvert_exporter": "python",
   "pygments_lexer": "ipython3",
   "version": "3.6.9"
  }
 },
 "nbformat": 4,
 "nbformat_minor": 4
}
